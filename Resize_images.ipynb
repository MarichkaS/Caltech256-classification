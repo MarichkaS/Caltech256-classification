{
 "cells": [
  {
   "cell_type": "code",
   "execution_count": 1,
   "metadata": {
    "collapsed": true
   },
   "outputs": [],
   "source": [
    "from PIL import Image\n",
    "import os, sys"
   ]
  },
  {
   "cell_type": "markdown",
   "metadata": {},
   "source": [
    "## Function to resize all images of different sizes "
   ]
  },
  {
   "cell_type": "code",
   "execution_count": 2,
   "metadata": {
    "collapsed": true
   },
   "outputs": [],
   "source": [
    "def resize_images(new_size, src_fold, out_fold):\n",
    "    try:\n",
    "        input_dir, output_dir  = src_fold.rstrip('/'),  out_fold.rstrip('/')          \n",
    "        if not os.path.exists(out_fold):\n",
    "                os.makedirs(out_fold)\n",
    "                \n",
    "        classes = [fold for fold in os.listdir(input_dir)]\n",
    "        c, list_dir_cl = 0, []\n",
    "\n",
    "        for x in classes:\n",
    "            list_dir_cl.append(os.path.join(input_dir, x ))\n",
    "\n",
    "        for image in list_dir_cl:\n",
    "            try:\n",
    "                img = Image.open(image)\n",
    "                img = img.resize((int(new_size),int(new_size)),Image.ANTIALIAS)\n",
    "\n",
    "                fname,extension = os.path.splitext(classes[c])\n",
    "                new_path = out_fold+'/'+fname+extension\n",
    "                img.save(new_path,\"JPEG\",quality=90)\n",
    "\n",
    "            except Exception,e:\n",
    "                print (\"Error resize file : %s \" % image)\n",
    "                sys.exit(1)\n",
    "            c +=1\n",
    "\n",
    "    except:\n",
    "        print(\"Something is wrong with input directory\")\n",
    "        sys.exit(1)"
   ]
  },
  {
   "cell_type": "code",
   "execution_count": 3,
   "metadata": {
    "collapsed": true
   },
   "outputs": [],
   "source": [
    "resize_images(64, '/home/usr_name/Documents/caltech/test/', '/home/usr_name/Documents/caltech/test_resized')"
   ]
  },
  {
   "cell_type": "markdown",
   "metadata": {},
   "source": [
    "## Display images"
   ]
  },
  {
   "cell_type": "code",
   "execution_count": 4,
   "metadata": {
    "collapsed": true
   },
   "outputs": [],
   "source": [
    "PATH = '/home/usr_name/Documents/caltech/test_resized'\n",
    "files = os.listdir(PATH)\n",
    "\n",
    "count = 0\n",
    "for f in files:\n",
    "    if count >5:\n",
    "        break\n",
    "    img = Image.open(PATH+'/'+f)\n",
    "    img.show()\n",
    "    count +=1"
   ]
  },
  {
   "cell_type": "code",
   "execution_count": null,
   "metadata": {
    "collapsed": true
   },
   "outputs": [],
   "source": []
  }
 ],
 "metadata": {
  "kernelspec": {
   "display_name": "Python 2",
   "language": "python",
   "name": "python2"
  },
  "language_info": {
   "codemirror_mode": {
    "name": "ipython",
    "version": 2
   },
   "file_extension": ".py",
   "mimetype": "text/x-python",
   "name": "python",
   "nbconvert_exporter": "python",
   "pygments_lexer": "ipython2",
   "version": "2.7.13"
  }
 },
 "nbformat": 4,
 "nbformat_minor": 2
}
